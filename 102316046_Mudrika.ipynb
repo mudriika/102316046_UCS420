{
 "cells": [
  {
   "cell_type": "markdown",
   "metadata": {
    "id": "6_Apmu3qEMA_"
   },
   "source": [
    "**1**"
   ]
  },
  {
   "cell_type": "code",
   "execution_count": null,
   "metadata": {
    "colab": {
     "base_uri": "https://localhost:8080/"
    },
    "id": "UT5eonZI5K_m",
    "outputId": "28520970-0424-4d3b-9410-64ac1d35bf82"
   },
   "outputs": [
    {
     "name": "stdout",
     "output_type": "stream",
     "text": [
      "MUDRIKA KUMAWAT\n",
      "MUDRIKA KUMAWAT\n",
      "MUDRIKA KUMAWAT\n"
     ]
    }
   ],
   "source": [
    "for i in range(3):\n",
    "  print(\"MUDRIKA KUMAWAT\")"
   ]
  },
  {
   "cell_type": "markdown",
   "metadata": {
    "id": "gdw5_L-dETJf"
   },
   "source": [
    "**2.1**"
   ]
  },
  {
   "cell_type": "code",
   "execution_count": 2,
   "metadata": {
    "colab": {
     "base_uri": "https://localhost:8080/"
    },
    "id": "jZGhj4j2AIkm",
    "outputId": "fadc0a0e-7f97-4038-8870-fa1efc18d899"
   },
   "outputs": [
    {
     "name": "stdout",
     "output_type": "stream",
     "text": [
      "10 + 220 + 230 = 460\n"
     ]
    }
   ],
   "source": [
    "a=10\n",
    "b=220\n",
    "c=23\n",
    "c=a+b\n",
    "print(a,\"+\",b,\"+\",c,\"=\",a+b+c)"
   ]
  },
  {
   "cell_type": "markdown",
   "metadata": {
    "id": "5hENgGvjFEsk"
   },
   "source": [
    "**2.2**"
   ]
  },
  {
   "cell_type": "code",
   "execution_count": 3,
   "metadata": {
    "colab": {
     "base_uri": "https://localhost:8080/"
    },
    "id": "_aDP-nJwFChQ",
    "outputId": "4e9dab01-8f62-4bd3-ca94-57311d931e37"
   },
   "outputs": [
    {
     "name": "stdout",
     "output_type": "stream",
     "text": [
      "helloworldji\n"
     ]
    }
   ],
   "source": [
    "a=\"hello\"\n",
    "b=\"world\"\n",
    "c=\"ji\"\n",
    "print(a+b+c)"
   ]
  },
  {
   "cell_type": "markdown",
   "metadata": {
    "id": "va_BzH86Fuyi"
   },
   "source": [
    "**4.1**"
   ]
  },
  {
   "cell_type": "code",
   "execution_count": 4,
   "metadata": {
    "colab": {
     "base_uri": "https://localhost:8080/"
    },
    "id": "YY5K4gplFxLo",
    "outputId": "a5714e48-bb2a-4a71-8def-91f7655ef126"
   },
   "outputs": [
    {
     "name": "stdout",
     "output_type": "stream",
     "text": [
      "4 x 1 = 7     5 x 1 = 9\n",
      "\n",
      "\n",
      "4 x 2 = 14     5 x 2 = 18\n",
      "\n",
      "\n",
      "4 x 3 = 21     5 x 3 = 27\n",
      "\n",
      "\n",
      "4 x 4 = 28     5 x 4 = 36\n",
      "\n",
      "\n",
      "4 x 5 = 35     5 x 5 = 45\n",
      "\n",
      "\n",
      "4 x 6 = 42     5 x 6 = 54\n",
      "\n",
      "\n",
      "4 x 7 = 49     5 x 7 = 63\n",
      "\n",
      "\n",
      "4 x 8 = 56     5 x 8 = 72\n",
      "\n",
      "\n",
      "4 x 9 = 63     5 x 9 = 81\n",
      "\n",
      "\n",
      "4 x 10 = 70     5 x 10 = 90\n",
      "\n",
      "\n"
     ]
    }
   ],
   "source": [
    "for i in range(1,11,1):\n",
    "  print(4,\"x\",i,\"=\",7*i,\"   \",5,\"x\",i,\"=\",9*i)\n",
    "  print(\"\\n\")\n"
   ]
  },
  {
   "cell_type": "markdown",
   "metadata": {
    "id": "V1YwqIRHFwYk"
   },
   "source": [
    "**4.2**"
   ]
  },
  {
   "cell_type": "code",
   "execution_count": 5,
   "metadata": {
    "colab": {
     "base_uri": "https://localhost:8080/"
    },
    "id": "eoEK5ZyvGlYr",
    "outputId": "6d76e7e1-f74e-48fe-cae8-677670e5808c"
   },
   "outputs": [
    {
     "ename": "ValueError",
     "evalue": "invalid literal for int() with base 10: ''",
     "output_type": "error",
     "traceback": [
      "\u001b[1;31m---------------------------------------------------------------------------\u001b[0m",
      "\u001b[1;31mValueError\u001b[0m                                Traceback (most recent call last)",
      "Cell \u001b[1;32mIn[5], line 1\u001b[0m\n\u001b[1;32m----> 1\u001b[0m n\u001b[38;5;241m=\u001b[39m\u001b[38;5;28;43mint\u001b[39;49m\u001b[43m(\u001b[49m\u001b[38;5;28;43minput\u001b[39;49m\u001b[43m(\u001b[49m\u001b[38;5;124;43m\"\u001b[39;49m\u001b[38;5;124;43menter any integer of your choice\u001b[39;49m\u001b[38;5;130;43;01m\\n\u001b[39;49;00m\u001b[38;5;124;43m\"\u001b[39;49m\u001b[43m)\u001b[49m\u001b[43m)\u001b[49m\n\u001b[0;32m      2\u001b[0m \u001b[38;5;28;01mfor\u001b[39;00m i \u001b[38;5;129;01min\u001b[39;00m \u001b[38;5;28mrange\u001b[39m(\u001b[38;5;241m1\u001b[39m,\u001b[38;5;241m11\u001b[39m,\u001b[38;5;241m1\u001b[39m):\n\u001b[0;32m      3\u001b[0m    \u001b[38;5;28mprint\u001b[39m(n,\u001b[38;5;124m\"\u001b[39m\u001b[38;5;124mx\u001b[39m\u001b[38;5;124m\"\u001b[39m,i,\u001b[38;5;124m\"\u001b[39m\u001b[38;5;124m=\u001b[39m\u001b[38;5;124m\"\u001b[39m,n\u001b[38;5;241m*\u001b[39mi)\n",
      "\u001b[1;31mValueError\u001b[0m: invalid literal for int() with base 10: ''"
     ]
    }
   ],
   "source": [
    "n=int(input(\"enter any integer of your choice\\n\"))\n",
    "for i in range(1,11,1):\n",
    "   print(n,\"x\",i,\"=\",n*i)\n"
   ]
  },
  {
   "cell_type": "markdown",
   "metadata": {
    "id": "pYoNBDthHAUP"
   },
   "source": [
    "**4.3**"
   ]
  },
  {
   "cell_type": "code",
   "execution_count": null,
   "metadata": {
    "colab": {
     "base_uri": "https://localhost:8080/"
    },
    "id": "bCI-lPYbHCdR",
    "outputId": "20936bf4-4766-4f06-8cc3-e93111ec1b04"
   },
   "outputs": [
    {
     "name": "stdout",
     "output_type": "stream",
     "text": [
      "Enter a number\n",
      "12\n",
      "78\n"
     ]
    }
   ],
   "source": [
    "n=int(input(\"Enter a number\\n\"))\n",
    "sum=0\n",
    "for i in range(1,n+1,1):\n",
    "  sum=sum+i\n",
    "print(sum)\n"
   ]
  },
  {
   "cell_type": "markdown",
   "metadata": {
    "id": "n72FKV3vOg76"
   },
   "source": [
    "**5.1 ,5.2,5.3**"
   ]
  },
  {
   "cell_type": "code",
   "execution_count": null,
   "metadata": {
    "colab": {
     "base_uri": "https://localhost:8080/"
    },
    "id": "JWwHfP-tOnI_",
    "outputId": "a6cc1d49-c979-4bf0-ba8a-55cc101dd2b7"
   },
   "outputs": [
    {
     "name": "stdout",
     "output_type": "stream",
     "text": [
      "enter first number\n",
      "4\n",
      "enter second number\n",
      "6\n",
      "enter third number\n",
      "67\n",
      "max=  67\n"
     ]
    }
   ],
   "source": [
    "a=int(input(\"enter first number\\n\"))\n",
    "b=int(input(\"enter second number\\n\"))\n",
    "c=int(input(\"enter third number\\n\"))\n",
    "max_no=max(a,b,c)\n",
    "print(\"max= \",max_no)"
   ]
  },
  {
   "cell_type": "code",
   "execution_count": null,
   "metadata": {
    "colab": {
     "base_uri": "https://localhost:8080/"
    },
    "id": "EB8VFyZRRzRT",
    "outputId": "4722171b-3116-4c42-bead-43130c832aad"
   },
   "outputs": [
    {
     "name": "stdout",
     "output_type": "stream",
     "text": [
      "enter first number\n",
      "63\n",
      "63\n"
     ]
    }
   ],
   "source": [
    "n=int(input(\"enter first number\\n\"))\n",
    "sum=0;\n",
    "for i in range(1,n+1,1):\n",
    "  if(i%7==0 and i%9==0):\n",
    "    sum=sum+i\n",
    "print(sum)"
   ]
  },
  {
   "cell_type": "code",
   "execution_count": null,
   "metadata": {
    "colab": {
     "base_uri": "https://localhost:8080/"
    },
    "id": "7O60xiIQS5jQ",
    "outputId": "44df6c54-e382-4f99-d181-7ce6d67b25d4"
   },
   "outputs": [
    {
     "name": "stdout",
     "output_type": "stream",
     "text": [
      "Enter a No: 10\n",
      "17\n"
     ]
    }
   ],
   "source": [
    "n = int(input(\"Enter a No: \"))\n",
    "sum = 0\n",
    "\n",
    "def is_prime(n):\n",
    "    if n <= 1:\n",
    "        return False\n",
    "    for i in range(2, int(n//2) + 1):\n",
    "        if n % i == 0:\n",
    "            return False\n",
    "    return True\n",
    "\n",
    "for i in range(2, n + 1):\n",
    "    if is_prime(i):\n",
    "        sum += i\n",
    "\n",
    "print(sum)\n"
   ]
  },
  {
   "cell_type": "markdown",
   "metadata": {
    "id": "yULbSb9XOmlS"
   },
   "source": [
    "6.1,**6.2**"
   ]
  },
  {
   "cell_type": "code",
   "execution_count": null,
   "metadata": {
    "colab": {
     "base_uri": "https://localhost:8080/"
    },
    "id": "lmeUxuXaWt0n",
    "outputId": "66124ef8-5b21-4f95-cd35-720b6d070e37"
   },
   "outputs": [
    {
     "name": "stdout",
     "output_type": "stream",
     "text": [
      "enter first number\n",
      "5\n",
      "9\n"
     ]
    }
   ],
   "source": [
    "n=int(input(\"enter first number\\n\"))\n",
    "sum=0\n",
    "for i in range(1,n+1,2):\n",
    "  sum=sum+i\n",
    "print(sum)\n"
   ]
  },
  {
   "cell_type": "code",
   "execution_count": null,
   "metadata": {
    "colab": {
     "base_uri": "https://localhost:8080/"
    },
    "id": "oNtkmf08XcDg",
    "outputId": "fd5da111-f102-40e9-a258-4ec0bd538df3"
   },
   "outputs": [
    {
     "name": "stdout",
     "output_type": "stream",
     "text": [
      "Enter a No: 10\n",
      "17\n"
     ]
    }
   ],
   "source": [
    "n = int(input(\"Enter a No: \"))\n",
    "sum = 0\n",
    "\n",
    "def is_prime(n):\n",
    "    if n <= 1:\n",
    "        return False\n",
    "    for i in range(2, int(n//2) + 1):\n",
    "        if n % i == 0:\n",
    "            return False\n",
    "    return True\n",
    "\n",
    "for i in range(2, n + 1):\n",
    "    if is_prime(i):\n",
    "        sum += i\n",
    "\n",
    "print(sum)"
   ]
  }
 ],
 "metadata": {
  "colab": {
   "provenance": []
  },
  "kernelspec": {
   "display_name": "Python 3",
   "name": "python3"
  },
  "language_info": {
   "codemirror_mode": {
    "name": "ipython",
    "version": 3
   },
   "file_extension": ".py",
   "mimetype": "text/x-python",
   "name": "python",
   "nbconvert_exporter": "python",
   "pygments_lexer": "ipython3",
   "version": "3.12.4"
  }
 },
 "nbformat": 4,
 "nbformat_minor": 0
}

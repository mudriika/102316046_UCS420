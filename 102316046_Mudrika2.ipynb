{
  "cells": [
    {
      "cell_type": "code",
      "execution_count": null,
      "metadata": {
        "id": "G72XHuaPct3g"
      },
      "outputs": [],
      "source": []
    },
    {
      "cell_type": "markdown",
      "metadata": {
        "id": "inNQpskrd3mW"
      },
      "source": [
        "Assignment **2**"
      ]
    },
    {
      "cell_type": "markdown",
      "metadata": {
        "id": "HcqXErXHd8MG"
      },
      "source": [
        "1"
      ]
    },
    {
      "cell_type": "code",
      "execution_count": 1,
      "metadata": {
        "colab": {
          "base_uri": "https://localhost:8080/"
        },
        "id": "jO59M89pd6lz",
        "outputId": "ee243bd6-4b2d-4ccb-edc2-5351acf6281f"
      },
      "outputs": [
        {
          "name": "stdout",
          "output_type": "stream",
          "text": [
            "after 1 [10, 20, 30, 40, 50, 60, 70, 80, 200, 300]\n",
            "after 2 [20, 40, 50, 60, 70, 80, 200, 300]\n",
            "after 3 [20, 40, 50, 60, 70, 80, 200, 300]\n",
            "after 4  [300, 200, 80, 70, 60, 50, 40, 20]\n"
          ]
        }
      ],
      "source": [
        "L=[10,20,30,40,50,60,70,80]\n",
        "L.append(200)\n",
        "L.append(300)\n",
        "print(\"after 1\",L)\n",
        "L.remove(10)\n",
        "L.remove(30)\n",
        "print(\"after 2\",L)\n",
        "L.sort()\n",
        "print(\"after 3\",L)\n",
        "L.sort(reverse=True)\n",
        "print(\"after 4 \",L)\n"
      ]
    },
    {
      "cell_type": "markdown",
      "metadata": {
        "id": "eNNd5aXrfRcr"
      },
      "source": [
        "2"
      ]
    },
    {
      "cell_type": "code",
      "execution_count": 15,
      "metadata": {
        "colab": {
          "base_uri": "https://localhost:8080/"
        },
        "id": "4wq1IaeFfZPi",
        "outputId": "2e681005-5c53-497c-9366-ae5592545f22"
      },
      "outputs": [
        {
          "name": "stdout",
          "output_type": "stream",
          "text": [
            "92\n",
            "5\n",
            "45\n",
            "2\n",
            "[45, 58, 92, 89, 45.4, 76, 89.5, 45]\n",
            "enter the number12\n",
            "Not present\n"
          ]
        }
      ],
      "source": [
        "t=(45, 89.5, 76, 45.4, 89, 92, 58, 45)\n",
        "\n",
        "print(max(t))\n",
        "print(t.index(max(t)))\n",
        "print(min(t))\n",
        "print(t.count(min(t)))\n",
        "lst=list(t[::-1])\n",
        "print(lst)\n",
        "n=int(input(\"enter the number\"))\n",
        "if(t.count(n)):\n",
        "  print( t.index(n))\n",
        "else:\n",
        "  print(\"Not present\")\n",
        "\n"
      ]
    },
    {
      "cell_type": "markdown",
      "metadata": {
        "id": "N1jVJsyzfUvx"
      },
      "source": [
        "**3**"
      ]
    },
    {
      "cell_type": "code",
      "execution_count": 1,
      "metadata": {
        "colab": {
          "base_uri": "https://localhost:8080/"
        },
        "id": "bwloDur1p8z2",
        "outputId": "1eb3e2e4-a9fb-41a6-a480-a0ffac5daa24"
      },
      "outputs": [
        {
          "name": "stdout",
          "output_type": "stream",
          "text": [
            "363 569 697 555 719 799 197 183 713 137 793 121 877 511 885 885 489 823 719 615 725 421 265 751 719 579 591 209 729 293 627 727 741 721 411 381 745 877 289 843 673 601 721 579 187 833 211 527 341 \n",
            "\n",
            "count of odd no =  49\n",
            "368 178 806 820 674 676 612 890 424 846 892 152 550 630 422 796 594 304 898 642 312 842 700 854 408 686 292 682 216 580 196 752 448 290 716 744 302 508 646 216 498 810 856 172 410 720 250 484 730 170 778 \n",
            "\n",
            "count of even no =  51\n",
            "Prime numbers: [569, 719, 197, 137, 877, 823, 719, 421, 751, 719, 293, 727, 877, 673, 601, 211]\n",
            "16\n"
          ]
        }
      ],
      "source": [
        "import random\n",
        "random_nums=[random.randint(101,899) for i in range(100)]\n",
        "#print(random_nums)\n",
        "cnt=0\n",
        "for i in random_nums:\n",
        "  if(i%2==1):\n",
        "    cnt+=1\n",
        "    print(i,end=\" \")\n",
        "print(\"\\n\")\n",
        "print(\"count of odd no = \",cnt)\n",
        "cnte=0\n",
        "for i in random_nums:\n",
        "  if(i%2==0):\n",
        "    cnte+=1\n",
        "    print(i,end=\" \")\n",
        "print(\"\\n\")\n",
        "print(\"count of even no = \",cnte)\n",
        "def is_prime(n):\n",
        "  if(n<=1):\n",
        "    return False\n",
        "  for i in range(2,n//2,1):\n",
        "    if(n%i==0):\n",
        "      return False\n",
        "  return True\n",
        "prime_numbers = [num for num in random_nums if is_prime(num)]\n",
        "print(\"Prime numbers:\", prime_numbers)\n",
        "print(len(prime_numbers))\n"
      ]
    },
    {
      "cell_type": "markdown",
      "metadata": {
        "id": "hYv6lGhsyUUi"
      },
      "source": [
        "**4**"
      ]
    },
    {
      "cell_type": "code",
      "execution_count": null,
      "metadata": {
        "colab": {
          "base_uri": "https://localhost:8080/"
        },
        "id": "tMMlqlgvyV0X",
        "outputId": "2c65a7dd-2147-4b1e-b7d8-19380e4f6179"
      },
      "outputs": [
        {
          "name": "stdout",
          "output_type": "stream",
          "text": [
            "{5, 8, 48, 23, 90, 93}\n",
            "{8, 93}\n",
            "{90, 5}\n",
            "{48, 23}\n",
            "{5, 48, 23, 90}\n",
            "A is not subset of B\n",
            "B is not superset of A\n"
          ]
        }
      ],
      "source": [
        "A = {93, 5, 8, 90}\n",
        "B = {8, 48, 93, 23}\n",
        "print(A.union(B))\n",
        "print(A.intersection(B))\n",
        "print(A.difference(B))\n",
        "print(B.difference(A))\n",
        "print(A.symmetric_difference(B))\n",
        "if(A.issubset(B)):\n",
        "  print(\"A is subset of B\")\n",
        "else:\n",
        "  print(\"A is not subset of B\")\n",
        "if(B.issuperset(A)):\n",
        "  print(\"B is superset of A\")\n",
        "else:\n",
        "  print(\"B is not superset of A\")\n",
        "x=int(input(\"enter the number\"))\n",
        "if(x in A):\n",
        "  A.remove(x)\n",
        "  print(\"x is removed from A\")\n",
        "  print(A)\n",
        "else:\n",
        "  print(x ,\" is not present in A\")"
      ]
    },
    {
      "cell_type": "markdown",
      "metadata": {
        "id": "D2TiLPeAz5gj"
      },
      "source": [
        "**5**"
      ]
    },
    {
      "cell_type": "code",
      "execution_count": 1,
      "metadata": {
        "colab": {
          "base_uri": "https://localhost:8080/"
        },
        "id": "Gxy6q-A0z7gb",
        "outputId": "b74d85a1-d9a2-47b2-97d9-d03049ae5385"
      },
      "outputs": [
        {
          "name": "stdout",
          "output_type": "stream",
          "text": [
            "{'name': 'Mudrika', 'age': 19, 'salary': 8000000, 'location': 'Paris'}\n"
          ]
        }
      ],
      "source": [
        "sample_dict={\"name\":\"Mudrika\",\n",
        "            \"age\":19,\n",
        "            \"salary\":8000000,\n",
        "            \"city\":\"Paris\"}\n",
        "sample_dict[\"location\"]=sample_dict.pop(\"city\")\n",
        "print(sample_dict)\n",
        "\n"
      ]
    }
  ],
  "metadata": {
    "colab": {
      "provenance": []
    },
    "kernelspec": {
      "display_name": "Python 3",
      "name": "python3"
    },
    "language_info": {
      "codemirror_mode": {
        "name": "ipython",
        "version": 3
      },
      "file_extension": ".py",
      "mimetype": "text/x-python",
      "name": "python",
      "nbconvert_exporter": "python",
      "pygments_lexer": "ipython3",
      "version": "3.12.3"
    }
  },
  "nbformat": 4,
  "nbformat_minor": 0
}

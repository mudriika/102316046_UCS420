{
 "cells": [
  {
   "cell_type": "markdown",
   "metadata": {},
   "source": [
    "Question 1"
   ]
  },
  {
   "cell_type": "code",
   "execution_count": 6,
   "metadata": {},
   "outputs": [
    {
     "name": "stdout",
     "output_type": "stream",
     "text": [
      "[3 4 5 6 7]\n",
      "[ 3  6  9 12 15]\n",
      "[0.5 1.  1.5 2.  2.5]\n"
     ]
    }
   ],
   "source": [
    "import numpy as np\n",
    "arr1 = np.array([1,2,3,4,5])\n",
    "# Addition \n",
    "print(arr1+2)\n",
    "\n",
    "# Multiplication\n",
    "print(arr1*3)\n",
    "\n",
    "# Divide\n",
    "print(arr1/2)"
   ]
  },
  {
   "cell_type": "markdown",
   "metadata": {},
   "source": [
    "Question 2 "
   ]
  },
  {
   "cell_type": "code",
   "execution_count": 7,
   "metadata": {},
   "outputs": [
    {
     "name": "stdout",
     "output_type": "stream",
     "text": [
      "[6 5 4 3 2 1]\n",
      "Most frequent value in x: 1\n",
      "Indices: [0 5 7 8 9]\n",
      "Most frequent value in y: 1\n",
      "Indices: [0 1 2]\n"
     ]
    }
   ],
   "source": [
    "arr2 = np.array([1,2,3,4,5,6])\n",
    "reversed_arr = arr2[::-1]\n",
    "print(reversed_arr)\n",
    "\n",
    "def most_frequent(array):\n",
    "    unique, counts = np.unique(array, return_counts=True)  \n",
    "    most_frequent_value = unique[np.argmax(counts)] \n",
    "    indices = np.where(array == most_frequent_value)[0]  \n",
    "    return most_frequent_value, indices\n",
    "\n",
    "# (i) For x array\n",
    "x = np.array([1, 2, 3, 4, 5, 1, 2, 1, 1, 1])\n",
    "most_frequent_x, indices_x = most_frequent(x)\n",
    "print(\"Most frequent value in x:\", most_frequent_x)\n",
    "print(\"Indices:\", indices_x)\n",
    "\n",
    "# (ii) For y array\n",
    "y = np.array([1, 1, 1, 2, 3, 4, 2, 4, 3, 3])\n",
    "most_frequent_y, indices_y = most_frequent(y)\n",
    "print(\"Most frequent value in y:\", most_frequent_y)\n",
    "print(\"Indices:\", indices_y)\n"
   ]
  },
  {
   "cell_type": "markdown",
   "metadata": {},
   "source": [
    "Question 3 "
   ]
  },
  {
   "cell_type": "code",
   "execution_count": 8,
   "metadata": {},
   "outputs": [
    {
     "name": "stdout",
     "output_type": "stream",
     "text": [
      "Element at 1st row, 2nd column: 20\n",
      "Element at 3rd row, 1st column: 70\n"
     ]
    }
   ],
   "source": [
    "arr3 = np.array([\n",
    "    [10, 20, 30], \n",
    "    [40, 50, 60], \n",
    "    [70, 80, 90]\n",
    "])\n",
    "\n",
    "element_a = arr3[0, 1]  \n",
    "element_b = arr3[2, 0]  \n",
    "\n",
    "print(\"Element at 1st row, 2nd column:\", element_a)\n",
    "print(\"Element at 3rd row, 1st column:\", element_b)  \n"
   ]
  },
  {
   "cell_type": "markdown",
   "metadata": {},
   "source": [
    "Question 4"
   ]
  },
  {
   "cell_type": "code",
   "execution_count": 3,
   "metadata": {},
   "outputs": [
    {
     "name": "stdout",
     "output_type": "stream",
     "text": [
      "Array: [ 10.    13.75  17.5   21.25  25.    28.75  32.5   36.25  40.    43.75\n",
      "  47.5   51.25  55.    58.75  62.5   66.25  70.    73.75  77.5   81.25\n",
      "  85.    88.75  92.5   96.25 100.  ]\n",
      "Dimensions: 1\n",
      "Shape: (25,)\n",
      "Total Elements: 25\n",
      "Data Type of Elements: float64\n",
      "Total Bytes Consumed: 200\n",
      "\n",
      "Transposed using reshape():\n",
      " [[ 10.  ]\n",
      " [ 13.75]\n",
      " [ 17.5 ]\n",
      " [ 21.25]\n",
      " [ 25.  ]\n",
      " [ 28.75]\n",
      " [ 32.5 ]\n",
      " [ 36.25]\n",
      " [ 40.  ]\n",
      " [ 43.75]\n",
      " [ 47.5 ]\n",
      " [ 51.25]\n",
      " [ 55.  ]\n",
      " [ 58.75]\n",
      " [ 62.5 ]\n",
      " [ 66.25]\n",
      " [ 70.  ]\n",
      " [ 73.75]\n",
      " [ 77.5 ]\n",
      " [ 81.25]\n",
      " [ 85.  ]\n",
      " [ 88.75]\n",
      " [ 92.5 ]\n",
      " [ 96.25]\n",
      " [100.  ]]\n",
      "\n",
      "Transposed using .T:\n",
      " [ 10.    13.75  17.5   21.25  25.    28.75  32.5   36.25  40.    43.75\n",
      "  47.5   51.25  55.    58.75  62.5   66.25  70.    73.75  77.5   81.25\n",
      "  85.    88.75  92.5   96.25 100.  ]\n",
      "\n",
      "Is reshaped array same as .T? : False\n"
     ]
    }
   ],
   "source": [
    "import numpy as np\n",
    "\n",
    "mudrika = np.linspace(10, 100, 25)\n",
    "\n",
    "print(\"Array:\", mudrika)\n",
    "print(\"Dimensions:\", mudrika.ndim) \n",
    "print(\"Shape:\", mudrika.shape)  \n",
    "print(\"Total Elements:\", mudrika.size)  \n",
    "print(\"Data Type of Elements:\", mudrika.dtype)  \n",
    "print(\"Total Bytes Consumed:\", mudrika.nbytes)  \n",
    "\n",
    "\n",
    "transposed_array = mudrika.reshape(25, 1)\n",
    "print(\"\\nTransposed using reshape():\\n\", transposed_array)\n",
    "\n",
    "print(\"\\nTransposed using .T:\\n\", mudrika.T) \n",
    "\n",
    "print(\"\\nIs reshaped array same as .T? :\", np.array_equal(transposed_array, mudrika.T))\n"
   ]
  },
  {
   "cell_type": "markdown",
   "metadata": {},
   "source": [
    "Question 5 \n"
   ]
  },
  {
   "cell_type": "code",
   "execution_count": 4,
   "metadata": {},
   "outputs": [
    {
     "name": "stdout",
     "output_type": "stream",
     "text": [
      "Original 3x4 Array (ucs420_):\n",
      " [[10 20 30 40]\n",
      " [50 60 70 80]\n",
      " [90 15 20 35]]\n",
      "\n",
      "Mean: 43.333333333333336\n",
      "Median: 37.5\n",
      "Max Value: 90\n",
      "Min Value: 10\n",
      "Unique Elements: [10 15 20 30 35 40 50 60 70 80 90]\n",
      "\n",
      "Reshaped (4x3) Array:\n",
      " [[10 20 30]\n",
      " [40 50 60]\n",
      " [70 80 90]\n",
      " [15 20 35]]\n",
      "\n",
      "Resized (2x3) Array:\n",
      " [[10 20 30]\n",
      " [40 50 60]]\n"
     ]
    }
   ],
   "source": [
    "ucs420_mudrika = np.array([\n",
    "    [10, 20, 30, 40], \n",
    "    [50, 60, 70, 80], \n",
    "    [90, 15, 20, 35]\n",
    "])\n",
    "\n",
    "# Step 2: Compute statistics\n",
    "mean_value = np.mean(ucs420_mudrika)     \n",
    "median_value = np.median(ucs420_mudrika)  \n",
    "reshaped_ucs420_mudrika = ucs420_mudrika.reshape(4, 3)\n",
    "max_value = np.max(ucs420_mudrika)        \n",
    "min_value = np.min(ucs420_mudrika)         \n",
    "unique_values = np.unique(ucs420_mudrika)  \n",
    "\n",
    "reshaped_ucs420_mudrika = ucs420_mudrika.reshape(4, 3)\n",
    "\n",
    "\n",
    "resized_ucs420_mudrika = np.resize(ucs420_mudrika, (2, 3))\n",
    "\n",
    "# Step 5: Print results\n",
    "print(\"Original 3x4 Array (ucs420_):\\n\", ucs420_mudrika)\n",
    "print(\"\\nMean:\", mean_value)\n",
    "print(\"Median:\", median_value)\n",
    "print(\"Max Value:\", max_value)\n",
    "print(\"Min Value:\", min_value)\n",
    "print(\"Unique Elements:\", unique_values)\n",
    "\n",
    "print(\"\\nReshaped (4x3) Array:\\n\", reshaped_ucs420_mudrika)\n",
    "print(\"\\nResized (2x3) Array:\\n\", resized_ucs420_mudrika)\n"
   ]
  }
 ],
 "metadata": {
  "kernelspec": {
   "display_name": "Python 3",
   "language": "python",
   "name": "python3"
  },
  "language_info": {
   "codemirror_mode": {
    "name": "ipython",
    "version": 3
   },
   "file_extension": ".py",
   "mimetype": "text/x-python",
   "name": "python",
   "nbconvert_exporter": "python",
   "pygments_lexer": "ipython3",
   "version": "3.11.5"
  }
 },
 "nbformat": 4,
 "nbformat_minor": 2
}
